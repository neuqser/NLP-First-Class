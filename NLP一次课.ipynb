{
  "nbformat": 4,
  "nbformat_minor": 0,
  "metadata": {
    "colab": {
      "name": "NLP一次课.ipynb",
      "provenance": [],
      "collapsed_sections": [],
      "authorship_tag": "ABX9TyMJtLiE71boY4gvnUu7XVDj",
      "include_colab_link": true
    },
    "kernelspec": {
      "name": "python3",
      "display_name": "Python 3"
    },
    "accelerator": "GPU"
  },
  "cells": [
    {
      "cell_type": "markdown",
      "metadata": {
        "id": "view-in-github",
        "colab_type": "text"
      },
      "source": [
        "<a href=\"https://colab.research.google.com/github/ShinerayLu/NN/blob/main/NLP%E4%B8%80%E6%AC%A1%E8%AF%BE.ipynb\" target=\"_parent\"><img src=\"https://colab.research.google.com/assets/colab-badge.svg\" alt=\"Open In Colab\"/></a>"
      ]
    },
    {
      "cell_type": "code",
      "metadata": {
        "id": "qm9OaQmuqnVT",
        "outputId": "10cc5cdb-cc10-46d7-9f43-2886c5b2cd51",
        "colab": {
          "base_uri": "https://localhost:8080/",
          "height": 35
        }
      },
      "source": [
        "!git clone https://github.com/649453932/Chinese-Text-Classification-Pytorch.git"
      ],
      "execution_count": null,
      "outputs": [
        {
          "output_type": "stream",
          "text": [
            "fatal: destination path 'Chinese-Text-Classification-Pytorch' already exists and is not an empty directory.\n"
          ],
          "name": "stdout"
        }
      ]
    },
    {
      "cell_type": "code",
      "metadata": {
        "id": "gHlaE6OLrvBh",
        "outputId": "d2b952fb-c174-434f-8e58-64f5a7e86a37",
        "colab": {
          "base_uri": "https://localhost:8080/",
          "height": 109
        }
      },
      "source": [
        "pip install tensorboardX"
      ],
      "execution_count": null,
      "outputs": [
        {
          "output_type": "stream",
          "text": [
            "Requirement already satisfied: tensorboardX in /usr/local/lib/python3.6/dist-packages (2.1)\n",
            "Requirement already satisfied: protobuf>=3.8.0 in /usr/local/lib/python3.6/dist-packages (from tensorboardX) (3.12.4)\n",
            "Requirement already satisfied: numpy in /usr/local/lib/python3.6/dist-packages (from tensorboardX) (1.18.5)\n",
            "Requirement already satisfied: six in /usr/local/lib/python3.6/dist-packages (from tensorboardX) (1.15.0)\n",
            "Requirement already satisfied: setuptools in /usr/local/lib/python3.6/dist-packages (from protobuf>=3.8.0->tensorboardX) (50.3.0)\n"
          ],
          "name": "stdout"
        }
      ]
    },
    {
      "cell_type": "code",
      "metadata": {
        "id": "dUNlMLDmrdC0",
        "outputId": "da06ce49-dc38-46a1-b98c-deff41bcf46a",
        "colab": {
          "base_uri": "https://localhost:8080/",
          "height": 35
        }
      },
      "source": [
        "!mv Chinese-Text-Classification-Pytorch/* ."
      ],
      "execution_count": null,
      "outputs": [
        {
          "output_type": "stream",
          "text": [
            "mv: cannot stat 'Chinese-Text-Classification-Pytorch/*': No such file or directory\n"
          ],
          "name": "stdout"
        }
      ]
    },
    {
      "cell_type": "code",
      "metadata": {
        "id": "tifZX_nIrpB3",
        "outputId": "c01cf567-fa04-4e0f-e6e7-7c76fffd61b1",
        "colab": {
          "base_uri": "https://localhost:8080/",
          "height": 1000
        }
      },
      "source": [
        "!python run.py --model TextRNN"
      ],
      "execution_count": null,
      "outputs": [
        {
          "output_type": "stream",
          "text": [
            "Loading data...\n",
            "Vocab size: 4762\n",
            "180000it [00:02, 73168.16it/s]\n",
            "10000it [00:00, 73522.88it/s]\n",
            "10000it [00:00, 43997.41it/s]\n",
            "Time usage: 0:00:03\n",
            "<bound method Module.parameters of Model(\n",
            "  (embedding): Embedding(4762, 300)\n",
            "  (lstm): LSTM(300, 128, num_layers=2, batch_first=True, dropout=0.5, bidirectional=True)\n",
            "  (fc): Linear(in_features=256, out_features=10, bias=True)\n",
            ")>\n",
            "Epoch [1/10]\n",
            "Iter:      0,  Train Loss:   2.3,  Train Acc:  7.81%,  Val Loss:   2.3,  Val Acc: 10.00%,  Time: 0:00:00 *\n",
            "Iter:    100,  Train Loss:   1.7,  Train Acc: 39.06%,  Val Loss:   1.6,  Val Acc: 39.53%,  Time: 0:00:02 *\n",
            "Iter:    200,  Train Loss:   1.4,  Train Acc: 45.31%,  Val Loss:   1.3,  Val Acc: 52.07%,  Time: 0:00:04 *\n",
            "Iter:    300,  Train Loss:  0.93,  Train Acc: 67.97%,  Val Loss:   1.0,  Val Acc: 65.41%,  Time: 0:00:05 *\n",
            "Iter:    400,  Train Loss:  0.72,  Train Acc: 75.00%,  Val Loss:  0.72,  Val Acc: 76.77%,  Time: 0:00:07 *\n",
            "Iter:    500,  Train Loss:  0.59,  Train Acc: 80.47%,  Val Loss:  0.63,  Val Acc: 79.83%,  Time: 0:00:08 *\n",
            "Iter:    600,  Train Loss:  0.61,  Train Acc: 80.47%,  Val Loss:  0.56,  Val Acc: 82.09%,  Time: 0:00:10 *\n",
            "Iter:    700,  Train Loss:  0.51,  Train Acc: 84.38%,  Val Loss:   0.5,  Val Acc: 84.38%,  Time: 0:00:12 *\n",
            "Iter:    800,  Train Loss:  0.48,  Train Acc: 86.72%,  Val Loss:  0.48,  Val Acc: 84.87%,  Time: 0:00:13 *\n",
            "Iter:    900,  Train Loss:  0.49,  Train Acc: 84.38%,  Val Loss:  0.46,  Val Acc: 85.43%,  Time: 0:00:15 *\n",
            "Iter:   1000,  Train Loss:   0.3,  Train Acc: 89.06%,  Val Loss:  0.45,  Val Acc: 85.47%,  Time: 0:00:16 *\n",
            "Iter:   1100,  Train Loss:   0.3,  Train Acc: 91.41%,  Val Loss:  0.43,  Val Acc: 85.99%,  Time: 0:00:18 *\n",
            "Iter:   1200,  Train Loss:  0.36,  Train Acc: 88.28%,  Val Loss:  0.42,  Val Acc: 86.95%,  Time: 0:00:20 *\n",
            "Iter:   1300,  Train Loss:  0.38,  Train Acc: 85.94%,  Val Loss:  0.41,  Val Acc: 87.41%,  Time: 0:00:21 *\n",
            "Iter:   1400,  Train Loss:  0.48,  Train Acc: 85.94%,  Val Loss:  0.39,  Val Acc: 87.57%,  Time: 0:00:23 *\n",
            "Epoch [2/10]\n",
            "Iter:   1500,  Train Loss:  0.39,  Train Acc: 86.72%,  Val Loss:  0.38,  Val Acc: 87.84%,  Time: 0:00:25 *\n",
            "Iter:   1600,  Train Loss:  0.39,  Train Acc: 89.84%,  Val Loss:   0.4,  Val Acc: 87.46%,  Time: 0:00:26 \n",
            "Iter:   1700,  Train Loss:  0.39,  Train Acc: 85.94%,  Val Loss:  0.41,  Val Acc: 87.10%,  Time: 0:00:28 \n",
            "Iter:   1800,  Train Loss:  0.29,  Train Acc: 89.06%,  Val Loss:  0.38,  Val Acc: 88.03%,  Time: 0:00:29 \n",
            "Iter:   1900,  Train Loss:  0.34,  Train Acc: 87.50%,  Val Loss:  0.34,  Val Acc: 88.83%,  Time: 0:00:31 *\n",
            "Iter:   2000,  Train Loss:  0.36,  Train Acc: 87.50%,  Val Loss:  0.35,  Val Acc: 88.75%,  Time: 0:00:33 \n",
            "Iter:   2100,  Train Loss:  0.43,  Train Acc: 87.50%,  Val Loss:  0.35,  Val Acc: 88.89%,  Time: 0:00:34 \n",
            "Iter:   2200,  Train Loss:  0.25,  Train Acc: 90.62%,  Val Loss:  0.35,  Val Acc: 88.99%,  Time: 0:00:36 \n",
            "Iter:   2300,  Train Loss:  0.27,  Train Acc: 92.19%,  Val Loss:  0.33,  Val Acc: 89.34%,  Time: 0:00:37 *\n",
            "Iter:   2400,  Train Loss:  0.22,  Train Acc: 94.53%,  Val Loss:  0.36,  Val Acc: 88.80%,  Time: 0:00:39 \n",
            "Iter:   2500,  Train Loss:  0.24,  Train Acc: 91.41%,  Val Loss:  0.34,  Val Acc: 89.39%,  Time: 0:00:41 \n",
            "Iter:   2600,  Train Loss:  0.33,  Train Acc: 92.19%,  Val Loss:  0.34,  Val Acc: 89.35%,  Time: 0:00:42 \n",
            "Iter:   2700,  Train Loss:  0.29,  Train Acc: 92.19%,  Val Loss:  0.33,  Val Acc: 89.39%,  Time: 0:00:44 *\n",
            "Iter:   2800,  Train Loss:   0.4,  Train Acc: 87.50%,  Val Loss:  0.33,  Val Acc: 89.66%,  Time: 0:00:46 *\n",
            "Epoch [3/10]\n",
            "Iter:   2900,  Train Loss:  0.38,  Train Acc: 89.06%,  Val Loss:  0.34,  Val Acc: 89.46%,  Time: 0:00:47 \n",
            "Iter:   3000,  Train Loss:  0.29,  Train Acc: 91.41%,  Val Loss:  0.34,  Val Acc: 89.35%,  Time: 0:00:49 \n",
            "Iter:   3100,  Train Loss:  0.21,  Train Acc: 92.19%,  Val Loss:  0.33,  Val Acc: 89.28%,  Time: 0:00:50 \n",
            "Iter:   3200,  Train Loss:  0.38,  Train Acc: 90.62%,  Val Loss:  0.36,  Val Acc: 88.50%,  Time: 0:00:52 \n",
            "Iter:   3300,  Train Loss:  0.27,  Train Acc: 89.06%,  Val Loss:  0.31,  Val Acc: 89.87%,  Time: 0:00:54 *\n",
            "Iter:   3400,  Train Loss:  0.25,  Train Acc: 91.41%,  Val Loss:  0.32,  Val Acc: 89.52%,  Time: 0:00:55 \n",
            "Iter:   3500,  Train Loss:  0.23,  Train Acc: 91.41%,  Val Loss:  0.33,  Val Acc: 89.67%,  Time: 0:00:57 \n",
            "Iter:   3600,  Train Loss:  0.18,  Train Acc: 92.97%,  Val Loss:  0.33,  Val Acc: 89.61%,  Time: 0:00:59 \n",
            "Iter:   3700,  Train Loss:  0.33,  Train Acc: 89.84%,  Val Loss:  0.32,  Val Acc: 89.81%,  Time: 0:01:00 \n",
            "Iter:   3800,  Train Loss:  0.28,  Train Acc: 89.06%,  Val Loss:  0.31,  Val Acc: 90.21%,  Time: 0:01:02 *\n",
            "Iter:   3900,  Train Loss:  0.28,  Train Acc: 90.62%,  Val Loss:  0.31,  Val Acc: 90.16%,  Time: 0:01:03 \n",
            "Iter:   4000,  Train Loss:  0.25,  Train Acc: 91.41%,  Val Loss:  0.32,  Val Acc: 89.74%,  Time: 0:01:05 \n",
            "Iter:   4100,  Train Loss:  0.28,  Train Acc: 91.41%,  Val Loss:  0.31,  Val Acc: 90.18%,  Time: 0:01:07 *\n",
            "Iter:   4200,  Train Loss:  0.27,  Train Acc: 91.41%,  Val Loss:  0.32,  Val Acc: 90.14%,  Time: 0:01:08 \n",
            "Epoch [4/10]\n",
            "Iter:   4300,  Train Loss:  0.25,  Train Acc: 90.62%,  Val Loss:  0.32,  Val Acc: 89.88%,  Time: 0:01:10 \n",
            "Iter:   4400,  Train Loss:  0.21,  Train Acc: 93.75%,  Val Loss:  0.31,  Val Acc: 90.41%,  Time: 0:01:12 \n",
            "Iter:   4500,  Train Loss:  0.27,  Train Acc: 92.19%,  Val Loss:  0.31,  Val Acc: 89.89%,  Time: 0:01:13 \n",
            "Iter:   4600,  Train Loss:  0.24,  Train Acc: 90.62%,  Val Loss:   0.3,  Val Acc: 90.32%,  Time: 0:01:15 *\n",
            "Iter:   4700,  Train Loss:  0.32,  Train Acc: 90.62%,  Val Loss:   0.3,  Val Acc: 90.44%,  Time: 0:01:17 *\n",
            "Iter:   4800,  Train Loss:  0.11,  Train Acc: 96.09%,  Val Loss:  0.31,  Val Acc: 90.31%,  Time: 0:01:18 \n",
            "Iter:   4900,  Train Loss:  0.18,  Train Acc: 92.97%,  Val Loss:  0.31,  Val Acc: 90.41%,  Time: 0:01:20 \n",
            "Iter:   5000,  Train Loss:  0.23,  Train Acc: 92.19%,  Val Loss:  0.34,  Val Acc: 89.50%,  Time: 0:01:22 \n",
            "Iter:   5100,  Train Loss:  0.19,  Train Acc: 89.06%,  Val Loss:  0.32,  Val Acc: 90.10%,  Time: 0:01:23 \n",
            "Iter:   5200,  Train Loss:   0.3,  Train Acc: 92.19%,  Val Loss:  0.31,  Val Acc: 90.19%,  Time: 0:01:25 \n",
            "Iter:   5300,  Train Loss:  0.18,  Train Acc: 93.75%,  Val Loss:  0.32,  Val Acc: 90.10%,  Time: 0:01:27 \n",
            "Iter:   5400,  Train Loss:  0.31,  Train Acc: 90.62%,  Val Loss:  0.31,  Val Acc: 90.22%,  Time: 0:01:28 \n",
            "Iter:   5500,  Train Loss:  0.23,  Train Acc: 92.97%,  Val Loss:  0.31,  Val Acc: 90.56%,  Time: 0:01:30 \n",
            "Iter:   5600,  Train Loss:  0.13,  Train Acc: 93.75%,  Val Loss:   0.3,  Val Acc: 90.02%,  Time: 0:01:32 \n",
            "Epoch [5/10]\n",
            "Iter:   5700,  Train Loss:  0.26,  Train Acc: 92.19%,  Val Loss:  0.32,  Val Acc: 90.34%,  Time: 0:01:33 \n",
            "No optimization for a long time, auto-stopping...\n",
            "Test Loss:  0.29,  Test Acc: 90.88%\n",
            "Precision, Recall and F1-Score...\n",
            "               precision    recall  f1-score   support\n",
            "\n",
            "      finance     0.9142    0.8950    0.9045      1000\n",
            "       realty     0.9091    0.9300    0.9194      1000\n",
            "       stocks     0.8911    0.8100    0.8486      1000\n",
            "    education     0.9283    0.9580    0.9429      1000\n",
            "      science     0.8375    0.8710    0.8539      1000\n",
            "      society     0.8713    0.9340    0.9015      1000\n",
            "     politics     0.9128    0.8480    0.8792      1000\n",
            "       sports     0.9760    0.9760    0.9760      1000\n",
            "         game     0.9327    0.9290    0.9309      1000\n",
            "entertainment     0.9186    0.9370    0.9277      1000\n",
            "\n",
            "     accuracy                         0.9088     10000\n",
            "    macro avg     0.9092    0.9088    0.9085     10000\n",
            " weighted avg     0.9092    0.9088    0.9085     10000\n",
            "\n",
            "Confusion Matrix...\n",
            "[[895  22  31   8  11  11  11   3   2   6]\n",
            " [  7 930  14   3   7  17   4   2   7   9]\n",
            " [ 58  31 810   5  46   6  28   2  11   3]\n",
            " [  0   0   0 958   3  20   6   0   1  12]\n",
            " [  5   5  22   9 871  25  15   1  33  14]\n",
            " [  0  16   2  16   9 934  10   0   3  10]\n",
            " [ 10   7  23  18  34  42 848   3   4  11]\n",
            " [  0   3   2   1   0   4   3 976   1  10]\n",
            " [  1   2   5   4  43   5   1   2 929   8]\n",
            " [  3   7   0  10  16   8   3  11   5 937]]\n",
            "Time usage: 0:00:00\n"
          ],
          "name": "stdout"
        }
      ]
    },
    {
      "cell_type": "code",
      "metadata": {
        "id": "FWa0WxY3v8DI"
      },
      "source": [
        ""
      ],
      "execution_count": null,
      "outputs": []
    }
  ]
}