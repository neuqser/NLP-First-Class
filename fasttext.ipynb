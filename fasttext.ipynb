{
  "nbformat": 4,
  "nbformat_minor": 0,
  "metadata": {
    "colab": {
      "name": "fasttext.ipynb",
      "provenance": [],
      "collapsed_sections": [],
      "mount_file_id": "1X-jo51h4RvvcLdFxma4nk8Wq4-quF5YI",
      "authorship_tag": "ABX9TyMQAP31Pnw4NJz2KoyX5Olw",
      "include_colab_link": true
    },
    "kernelspec": {
      "name": "python3",
      "display_name": "Python 3"
    }
  },
  "cells": [
    {
      "cell_type": "markdown",
      "metadata": {
        "id": "view-in-github",
        "colab_type": "text"
      },
      "source": [
        "<a href=\"https://colab.research.google.com/github/ShinerayLu/NN/blob/main/fasttext.ipynb\" target=\"_parent\"><img src=\"https://colab.research.google.com/assets/colab-badge.svg\" alt=\"Open In Colab\"/></a>"
      ]
    },
    {
      "cell_type": "code",
      "metadata": {
        "id": "jY1eGjhp53AU",
        "outputId": "a376b461-e462-4c76-efc6-d40f46974552",
        "colab": {
          "base_uri": "https://localhost:8080/",
          "height": 109
        }
      },
      "source": [
        "!git clone https://github.com/facebookresearch/fastText.git"
      ],
      "execution_count": 3,
      "outputs": [
        {
          "output_type": "stream",
          "text": [
            "Cloning into 'fastText'...\n",
            "remote: Enumerating objects: 3854, done.\u001b[K\n",
            "remote: Total 3854 (delta 0), reused 0 (delta 0), pack-reused 3854\u001b[K\n",
            "Receiving objects: 100% (3854/3854), 8.23 MiB | 36.46 MiB/s, done.\n",
            "Resolving deltas: 100% (2417/2417), done.\n"
          ],
          "name": "stdout"
        }
      ]
    },
    {
      "cell_type": "code",
      "metadata": {
        "id": "zewZI8wl_LF6",
        "outputId": "ca82e43c-fcb9-412f-f152-b21aff9a4c44",
        "colab": {
          "base_uri": "https://localhost:8080/",
          "height": 256
        }
      },
      "source": [
        "pip install fasttext"
      ],
      "execution_count": 9,
      "outputs": [
        {
          "output_type": "stream",
          "text": [
            "Collecting fasttext\n",
            "\u001b[?25l  Downloading https://files.pythonhosted.org/packages/f8/85/e2b368ab6d3528827b147fdb814f8189acc981a4bc2f99ab894650e05c40/fasttext-0.9.2.tar.gz (68kB)\n",
            "\r\u001b[K     |████▊                           | 10kB 19.4MB/s eta 0:00:01\r\u001b[K     |█████████▌                      | 20kB 3.4MB/s eta 0:00:01\r\u001b[K     |██████████████▎                 | 30kB 4.0MB/s eta 0:00:01\r\u001b[K     |███████████████████             | 40kB 4.1MB/s eta 0:00:01\r\u001b[K     |███████████████████████▉        | 51kB 4.1MB/s eta 0:00:01\r\u001b[K     |████████████████████████████▋   | 61kB 4.3MB/s eta 0:00:01\r\u001b[K     |████████████████████████████████| 71kB 3.2MB/s \n",
            "\u001b[?25hRequirement already satisfied: pybind11>=2.2 in /usr/local/lib/python3.6/dist-packages (from fasttext) (2.6.0)\n",
            "Requirement already satisfied: setuptools>=0.7.0 in /usr/local/lib/python3.6/dist-packages (from fasttext) (50.3.0)\n",
            "Requirement already satisfied: numpy in /usr/local/lib/python3.6/dist-packages (from fasttext) (1.18.5)\n",
            "Building wheels for collected packages: fasttext\n",
            "  Building wheel for fasttext (setup.py) ... \u001b[?25l\u001b[?25hdone\n",
            "  Created wheel for fasttext: filename=fasttext-0.9.2-cp36-cp36m-linux_x86_64.whl size=3022738 sha256=a1f21891c0da33e4821d917e6582fd6f3893a64599434c95d6e9deeaad292a3d\n",
            "  Stored in directory: /root/.cache/pip/wheels/98/ba/7f/b154944a1cf5a8cee91c154b75231136cc3a3321ab0e30f592\n",
            "Successfully built fasttext\n",
            "Installing collected packages: fasttext\n",
            "Successfully installed fasttext-0.9.2\n"
          ],
          "name": "stdout"
        }
      ]
    },
    {
      "cell_type": "markdown",
      "metadata": {
        "id": "-iDCbuQ46Ree"
      },
      "source": [
        "# 第二步：准备数据集"
      ]
    },
    {
      "cell_type": "code",
      "metadata": {
        "id": "YXvG5WyT6G39"
      },
      "source": [
        "#  标签\n",
        "\n",
        "mapper_tag = {\n",
        "    '财经': 'Finance',\n",
        "    '彩票': 'Lottery',\n",
        "    '房产': 'Property',\n",
        "    '股票': 'Shares',\n",
        "    '家居': 'Furnishing',\n",
        "    '教育': 'Education',\n",
        "    '科技': 'Technology',\n",
        "    '社会': 'Sociology',\n",
        "    '时尚': 'Fashion',\n",
        "    '时政': 'Affairs',\n",
        "    '体育': 'Sports',\n",
        "    '星座': 'Constellation',\n",
        "    '游戏': 'Game',\n",
        "    '娱乐': 'Entertainment'\n",
        "}"
      ],
      "execution_count": 12,
      "outputs": []
    },
    {
      "cell_type": "markdown",
      "metadata": {
        "id": "eG6N9SMc6UIU"
      },
      "source": [
        "# 第三步：数据预处理"
      ]
    },
    {
      "cell_type": "code",
      "metadata": {
        "id": "Obis0Tf26OTu"
      },
      "source": [
        "import re\n",
        "from types import MethodType, FunctionType\n",
        "import jieba\n",
        "import numpy as np\n",
        "import pandas as pd\n",
        "from random import shuffle\n",
        "import torch\n",
        "import os\n",
        "\n",
        "import fasttext.FastText as fasttext\n",
        "\n",
        "# 数据集路径写一个全局变量\n",
        "\n",
        "PATH = '/content/'"
      ],
      "execution_count": 29,
      "outputs": []
    },
    {
      "cell_type": "code",
      "metadata": {
        "id": "DqeLHZ_m_BCU",
        "outputId": "1d273fad-8c7c-494e-9107-e2d4de7f3c8c",
        "colab": {
          "base_uri": "https://localhost:8080/",
          "height": 109
        }
      },
      "source": [
        "# 数据清洗\n",
        "\n",
        "def clean_txt(raw):\n",
        "  fil = re.compile(r\"[^0-9a-zA-Z\\u4e00-\\u9fa5]+\") # 过滤中文\n",
        "  return fil.sub(\" \", raw) # 去空格\n",
        "\n",
        "def seg(sentence, sw, apply=None):\n",
        "  if isinstance(apply, FunctionType) or isinstance(apply, MehtodType):\n",
        "    sentence = apply(sentence)\n",
        "  return \" \".join([i for i in jieba.cut(sentence) if i.strip() and i not in sw])\n",
        "\n",
        "def stop_words():\n",
        "  with open(PATH+\"stopwords.txt\", \"r\", encoding=\"utf-8\") as swf:\n",
        "    return [line.strip() for line in swf]\n",
        "\n",
        "# 对某个sentence进行处理：\n",
        "content = '上海天然橡胶期价周三再创年内新高，主力合约突破21000元/吨重要关口。'\n",
        "res = seg(content.lower().replace('\\n', ''), stop_words(), apply=clean_txt)\n",
        "res\n"
      ],
      "execution_count": 31,
      "outputs": [
        {
          "output_type": "stream",
          "text": [
            "Building prefix dict from the default dictionary ...\n",
            "Dumping model to file cache /tmp/jieba.cache\n",
            "Loading model cost 1.088 seconds.\n",
            "Prefix dict has been built successfully.\n"
          ],
          "name": "stderr"
        },
        {
          "output_type": "execute_result",
          "data": {
            "application/vnd.google.colaboratory.intrinsic+json": {
              "type": "string"
            },
            "text/plain": [
              "'上海 天然橡胶 期价 周三 再创 年内 新高 主力 合约 突破 21000 元 吨 关口'"
            ]
          },
          "metadata": {
            "tags": []
          },
          "execution_count": 31
        }
      ]
    },
    {
      "cell_type": "code",
      "metadata": {
        "id": "-ZsnJMXw_hU4"
      },
      "source": [
        "# 切割数据\n",
        "# 先将txt文件转换成csv文件，方便后面的计算\n",
        "\n",
        "class _MD(object):\n",
        "    mapper = {\n",
        "        str: '',\n",
        "        int: 0,\n",
        "        list: list,\n",
        "        dict: dict,\n",
        "        set: set,\n",
        "        bool: False,\n",
        "        float: .0\n",
        "    }\n",
        "、\n",
        "    def __init__(self, obj, default=None):\n",
        "        self.dict = {}\n",
        "        assert obj in self.mapper, 'got a error type'\n",
        "        self.t = obj\n",
        "        if default is None:\n",
        "            return\n",
        "        assert isinstance(default, obj), f'default ({default}) must be {obj}'\n",
        "        self.v = default\n",
        "\n"
      ],
      "execution_count": null,
      "outputs": []
    }
  ]
}